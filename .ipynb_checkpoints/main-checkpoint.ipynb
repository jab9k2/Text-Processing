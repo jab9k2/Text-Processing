{
 "cells": [
  {
   "cell_type": "code",
   "execution_count": 103,
   "id": "c8d84927-5a4f-4be4-a5eb-b86c4285db94",
   "metadata": {},
   "outputs": [],
   "source": [
    "from PIL import Image\n",
    "from io import BytesIO\n",
    "import os\n",
    "from selenium import webdriver\n",
    "from time import sleep\n",
    "from pytesseract import pytesseract\n",
    "import requests\n",
    "from bs4 import BeautifulSoup as bs"
   ]
  },
  {
   "cell_type": "code",
   "execution_count": 44,
   "id": "79bf52e9-7680-4d70-a486-a5e6ff81a0cb",
   "metadata": {},
   "outputs": [],
   "source": [
    "url = 'https://emflipbooks.com/flipbooks/WSHGA/MD_2019/'"
   ]
  },
  {
   "cell_type": "code",
   "execution_count": 102,
   "id": "40bf5f37-422f-400e-b96b-32ac228cd3f1",
   "metadata": {},
   "outputs": [
    {
     "name": "stderr",
     "output_type": "stream",
     "text": [
      "C:\\Users\\jab39\\AppData\\Local\\Temp/ipykernel_21012/888823355.py:1: DeprecationWarning: executable_path has been deprecated, please pass in a Service object\n",
      "  driver = webdriver.Chrome('./chromedriver')\n",
      "C:\\Users\\jab39\\AppData\\Local\\Temp/ipykernel_21012/888823355.py:24: DeprecationWarning: executable_path has been deprecated, please pass in a Service object\n",
      "  driver = webdriver.Chrome('./chromedriver')\n"
     ]
    }
   ],
   "source": [
    "driver = webdriver.Chrome('./chromedriver')\n",
    "\n",
    "driver.get(\"https://emflipbooks.com/flipbooks/WSHGA/MD_2019/\")\n",
    "sleep(15)\n",
    "\n",
    "png = driver.get_screenshot_as_png()\n",
    "\n",
    "driver.quit()\n",
    "\n",
    "im = Image.open(BytesIO(png))\n",
    "\n",
    "# im = im.crop((left, top, right, bottom))\n",
    "im = im.crop((200, 60, 1100, 825))\n",
    "im.save(\"images//Cover.png\")\n",
    "\n",
    "for i in range(2, 50, 2):\n",
    "    try:\n",
    "        \n",
    "        response = requests.get(url+f\"{i}\", timeout=3)\n",
    "        status_code = response.status_code\n",
    "        \n",
    "        if status_code != 404:\n",
    "            \n",
    "            driver = webdriver.Chrome('./chromedriver')\n",
    "            driver.get(f\"https://emflipbooks.com/flipbooks/WSHGA/MD_2019/{i}\")\n",
    "            sleep(10)\n",
    "            \n",
    "            png = driver.get_screenshot_as_png()\n",
    "\n",
    "            driver.quit()\n",
    "\n",
    "            im = Image.open(BytesIO(png))\n",
    "\n",
    "            # im = im.crop((left, top, right, bottom))\n",
    "            im = im.crop((50, 60, 1250, 825))\n",
    "            im.save(f\"images//Page{i}.png\")\n",
    "            \n",
    "        #print(i)\n",
    "        \n",
    "    except Exception as e:\n",
    "        print(f\"Error: {e}\")\n",
    "    #print(url+f\"{i}\")\n",
    "    #print(status_code)"
   ]
  },
  {
   "cell_type": "code",
   "execution_count": 120,
   "id": "30528e07-6854-4f04-8a4c-2c0a92c7f101",
   "metadata": {},
   "outputs": [],
   "source": [
    "directory = \"C:/Users/jab39/Desktop/tesseract/images\"\n",
    "images = []\n",
    "for file in os.listdir(directory):\n",
    "    if file.endswith(\".png\"):\n",
    "        images.append(os.path.join(directory, file))"
   ]
  },
  {
   "cell_type": "code",
   "execution_count": 121,
   "id": "2871b624-c2b5-4e27-b701-be6828783750",
   "metadata": {},
   "outputs": [
    {
     "name": "stdout",
     "output_type": "stream",
     "text": [
      "['C:/Users/jab39/Desktop/tesseract/images\\\\Cover.png', 'C:/Users/jab39/Desktop/tesseract/images\\\\Page10.png', 'C:/Users/jab39/Desktop/tesseract/images\\\\Page12.png', 'C:/Users/jab39/Desktop/tesseract/images\\\\Page14.png', 'C:/Users/jab39/Desktop/tesseract/images\\\\Page16.png', 'C:/Users/jab39/Desktop/tesseract/images\\\\Page18.png', 'C:/Users/jab39/Desktop/tesseract/images\\\\Page2.png', 'C:/Users/jab39/Desktop/tesseract/images\\\\Page20.png', 'C:/Users/jab39/Desktop/tesseract/images\\\\Page22.png', 'C:/Users/jab39/Desktop/tesseract/images\\\\Page24.png', 'C:/Users/jab39/Desktop/tesseract/images\\\\Page26.png', 'C:/Users/jab39/Desktop/tesseract/images\\\\Page28.png', 'C:/Users/jab39/Desktop/tesseract/images\\\\Page30.png', 'C:/Users/jab39/Desktop/tesseract/images\\\\Page32.png', 'C:/Users/jab39/Desktop/tesseract/images\\\\Page34.png', 'C:/Users/jab39/Desktop/tesseract/images\\\\Page36.png', 'C:/Users/jab39/Desktop/tesseract/images\\\\Page38.png', 'C:/Users/jab39/Desktop/tesseract/images\\\\Page4.png', 'C:/Users/jab39/Desktop/tesseract/images\\\\Page40.png', 'C:/Users/jab39/Desktop/tesseract/images\\\\Page42.png', 'C:/Users/jab39/Desktop/tesseract/images\\\\Page44.png', 'C:/Users/jab39/Desktop/tesseract/images\\\\Page6.png', 'C:/Users/jab39/Desktop/tesseract/images\\\\Page8.png']\n"
     ]
    }
   ],
   "source": [
    "print(images)"
   ]
  },
  {
   "cell_type": "code",
   "execution_count": 126,
   "id": "e5cb98dc-7a4b-47d5-bbdc-3f00ec466e09",
   "metadata": {
    "tags": []
   },
   "outputs": [],
   "source": [
    "text_list = []\n",
    "path_to_tesseract = r\"C:\\Program Files\\Tesseract-OCR\\tesseract.exe\"\n",
    "\n",
    "for i in images:\n",
    "    image_path = f\"{i}\"\n",
    "\n",
    "    img = Image.open(image_path)\n",
    "    pytesseract.tesseract_cmd = path_to_tesseract\n",
    "\n",
    "    text_list.append(pytesseract.image_to_string(img))"
   ]
  },
  {
   "cell_type": "code",
   "execution_count": 125,
   "id": "8f2ebf56-64e1-45a5-95e6-779b800d0f53",
   "metadata": {},
   "outputs": [
    {
     "name": "stdout",
     "output_type": "stream",
     "text": [
      "['_—\\n\\n2019-2020\\n\\nDIRECTORY\\n\\na JANUARY,15-16; 2020\\n. & } Three Rivers Convention Center\\nHAY EXPO. wwenicona\\n\\n', 'Us CIRCLE H FARMS, INC. HANSES FARMS, LLC NLC FARM CORPORATION, INC.\\n\\nQuality Equipment & Services Somer eitee ess\\na eo Seen oa BE En\\nESE Seeman, SEM a Mees\\nEste ER san\\n\\n~ Ay |\\n\\nSe omamcn — SEBRAS ets.\\nDESERT SKY AG LLC Fax 509-297-4275 Fax 509-266-4954\\nWarren & Beorg Manufacturing, ne. ovo sal oesenr sty Gaeaces pena\\nSee ate ee ee ee Sere a\\nfo prelate tei Ee gos SESE ae ena Tews Fans\\nSromens sede dette maha Woo roate veo apa OE eas\\nPRODUCTS Seer, Ragan Cet vat\\n—— ee —\\n‘509-269-4449. MIDDLETON SIX SONS FARMS, 503-369-2966.\\neRe ey Keene malaga meats\\nMarkets: Export, Day ‘Cait 509-727-0019 Feeder uy omer\\noc\\n\\nWASHINGTON STATE HAY GROWERS ASSOCIATION 2020 MEMBERSHIP DIRECTORY\\n\\n', 'Stop Crimping and\\nStart CRUSHING\\n\\nThe Crusher is the\\nNEW STANDARD in hay\\nconditioning rollers!\\n\\n* Dries hay faster than factory rolls.\\n* Fully conditions the entire stem.\\n* MAXIMUM leaf retention.\\n* INCREASE RFV (relative feed value). fF\\n* Makes softer, more palatable hay.\\n‘* No wrapping or clogging. y\\n* Balanced to 1,000 RPMs.\\n* Lasts 3,000 -3,600 hours,\\n* Runson bw os S\\na fe\\n\\n® B&DRollers (320) 634-5115\\n\\nof MN, Inc. bdrollers.com\\n1490 2nd Ave NE\\n‘THE ULTIMATE IM HAY CONDITIONING ROLLERS Glenwood, MN 56334 Lf! m\\n\\nWASHINGTON STATE HAY GROWERS ASSOCIATION\\n\\n‘TERRY BAILIE FARMS WORSHAM FARMS\\n\\n‘ted oneqvest ‘Tonnage: 6000-7000\\n\\nTOMLINSON FARMS IN\\n\\nERIC LUND\\nvicToRY As\\nSoap Lake, WA 98051\\naylorkeuzoegmaicem\\n\\nANDERVILLE FARMS, INC.\\n\\nTenge: 2000\\n\\nWALKER Bros. ING\\n\\nFsteg on eqest,\\nTonnage 8000\\n\\nWag Fans\\n\\nFat eet a manera Nes\\n\\n2019-2020 MEMBERSHIP DIRECTORY\\n\\n‘mage: 9000\\nBEN SCHAAPMAN FARMS\\n\\n=\\nmecee\\n\\n‘BURKHOLDER FARMS LLC\\n\\n‘mbsfsesosmatus\\nS.gompany ne\\n\\nSobreoeae\\nCHARLTON FARMS I.\\n\\nrg, WA S826\\n\\n', 'Hi-Gest ALFALFA\\n_ TECHNOLOGY |\\n\\nAt Alforex®, we think you should expect more—and get more\\n—from your alfalfa and dairy herd.\\n\\nWith a higher leat stom ratio, Hi Gest alfalfa delivers a 5-10% increase in Mer digestibility\\nand extent of digestion, 3-5% higher crude protein** and more milk per cow per day, ll with\\nhigh yield potential and sotid agronomic. Hi Gesis changing what producers can expect from\\ntheir alfalfa. ust ask your neighbors to share ther Hi Gest sory.\\nTalkto your dealer today about raising —and meeting —your expectations for higher\\nquality alfalfa with Hi-Gest technology.\\n\\n(877) 560-5181 | alforexseeds.com\\n\\nWASHINGTON STATE HAY GROWERS ASSOCIATION\\n\\n‘COURTRIGHT ENTERPRISES INC.\\n\\nPackages: 8g\\nane\\n\\nDESERT FARMS.\\nmmananoemimgmt om\\n\\nDESERT FARMS, INC.\\n\\nPockages: 09 Ba\\nStorage: tap\\nited on east\\nTonnage’ 16000,\\n\\nECKENBERG FARMS, INC.\\n\\nPackages. string Ble, Big Bale\\nmeso\\n\\n2019-2020 MEMBERSHIP Di\\n\\nJeltersbatho\\nStorage: shed, tap\\nDavered! ves\\n\\nGDL FARMS INC.\\n\\nPackages: aig Bale\\njested: On Request\\n\\nGOFF FARMS\\n\\npackages 2 Stig tale, fig tale\\nStorage: fap\\nBavered’ no\\n\\nHUNTZINGER FARMS\\nlan tlantengee\\n\\nBackages tig ate °\\n\\nKLOMPEN FARMS\\n\\nKiompenrarmseseematus\\n\\nIps / ww tacebookeom /Klompan\\n\\nrope aaa, moth, Ataa/O\\n\\nPackages: 2String Bale, 3-String Bale\\nict *\\n\\nStorage: Shed, tarp\\n\\nDavered’ No\\n\\nTonnage: 1300\\n\\nK-N-R FARMS\\n\\nMARLIN HUTTERIAN\\nFBmesgrossmgmaltcom\\n\\nREFFETT FARMS,\\nBase mond P\\nPatkages 2 Sng Bale ig Bate\\n\\nTasted on Request\\nTonnage: 7000\\n\\n', 'GROWERS BY COUNTY\\n\\nOchi Wa FABRE.\\nscence\\nEee\\nSian\\n\\nfee rnan abe\\nMarkets: All °\\nEac\\npe\\n\\nsansa\\nsee\\nean\\nSema,\\na\\ncoc\\n\\nSp hao\\n\\n‘SIDEB, INC.\\nig Scien\\n\\nPoses (ake, Wa 98637-9304\\n‘Sesackoz0egraitcom\\n\\nrope Aaa Orhan, Timothy\\nrages ting tale, 34\\nfeeder\\n\\n‘Tomnage: 5000,\\n\\n‘STEVENS HAY EXPORTS\\nSSos ste tawy 20\\n‘Soap take, Wn 56051\\nieimtayorectevenshayexpor.com\\n\\nSTOKROSE FARM, INC.\\nWarden, wa Se857\\n“stokroseresmwtreiess net\\n\\nrope Aa Sra yg, Oy\\nPackages: tig Bate\\n\\nket al\\n\\njesed ve\\n\\n‘Tomage 1000\\n\\n‘TN FREEMAN FARMS\\nTapa Read SE\\n{Etreemaneyehoocam\\nwrekages arate es\\nvet ai\\n\\n‘Storage: tp\\n\\n‘esd on eget\\n\\n‘TOM DOWNS FARMS\\n‘be Adar Road N\\nSows ss\\ntomatatormecom\\n\\n{Stops tara timothy, Aaa/mo-\\nFatiages 3sting lg\\nNarkete a aD\\n\\n‘ested ven\\n\\n“ennage: 2,000\\n\\n‘avis enmnecusron\\n\\nSee\\n\\nSeenereertmtcon\\n\\nee\\nSp a oa\\n\\nees\\n\\n=\"\\n\\nYORGENSEN ENT, LLC\\n\\n‘iso Road 3s SW\\n\\nyorgeesiyahoocom\\nYORGESEN ENT. LLC\\n‘Se9 Rood 2s sw\\n\\n‘onnage: 12600\\n\\nBROCK\\n\\n+ Entity Planning\\n+ Transaction Planning\\n\\n+ Estate Planning/Probate\\n+ Real\\n\\nOffices in:\\nKennewick\\n\\n‘1030 N. Center Parkway\\nKennewick, WA 99336\\n\\nMoses Lake\\n2900 W. Broadway, S\\nMoses Lake, WA 98837\\n\\nDavenport\\n\\n529 Morgan Strect\\nP.O. Box 249\\nDavenport, WA 99122\\n\\n‘TEL: (509) 622-4707\\n\\nCOREY F. BROCK\\n&\\nNORMAN D. BROCK\\nAttorneys at Law\\n\\nServing the Farm Family and Agri-Business\\nin their succession and business needs\\n\\n+ Transition Planning\\n* Tax Planning\\n\\n+ Water Law\\n\\n+ Elder Law\\n\\nite TITS. Post Street, Suite 2280\\nSpokane, WA 99201\\n\\nFAX: (509) 622-4705\\n\\nWASHINGTON STATE HAY GROWERS ASSOCIATION\\n\\nEmail: corey@brocklf.com\\n\\n2019-2020 MEMBERSHIP DIRECTORY\\n\\n', 'Crop Border Areas Require Intensive\\nVole Management with\\n\\nreese eer aan source\\nSlensburg, WA 96926 www frazierranch net Packages: x4\\n\\nSee Aa thy. ato keB an Pee er Ys\\n\\nPackages: 2-String Gale, $-String fate, StoTage: Barn, Tarp ‘Tonnage: 5,000\\n\\nacoges 2 steg a Pa, Teed onemet\\n\\nMarkets Dary Horse, Feed store Dalvrec Yes TPRANCH\\n\\nDemvered: ves No.9 HAY Davenport, WA 99122\\neen Aas NC. Eilensburg, WA 98926 Erops: Grass/Altaifa, Barley Hay, Tit\\nEensburg: WA ‘fierenoshayeom ieee LY,\\nSar 503-3240 THIRSTY CREEK RANCH Der etme\\nmatosogererressret Too? Reece Creek Road\\n\\nPecage Simone ssomgne, ET SERNEY RANCHING\\n\\nPe Secon emnnel\\n\\nSoop Ste un oop STUD\\n\\nCALAWAY TRADING eaters ee\\n\\ncoun BBickleton, WA 99522 Markets: Horse, cows Sheep, Goat\\n\\nTonnage 1008\\nCALPACIFIC\\n\\nsone cantey MIELE Ne\\nCee ey Soros trae Road E Son Fat Bere\\npectowaynet Davenport, WA 99122 (632 Westside Calispell\\ntnikeatna com Sos.07 ow\\nCHO AT Gas sow Tf detluccom\\ncae ores ey ay ety cn\\nMarkets Feeder Packages 2-String Gale, Round Bale\\nHoge Shed ep tarts a\\npees Sage Gn tp\\nTomage: 500,\\n\\nHarvest More Alfalfa\\n\\nWASHINGTON STATE HAY GROWERS ASSOCIATION 020 MEMBERSHIP DIRECTORY\\n\\n', \"ANDERSON\\n\\nAnderson Hay & Grain Co., Inc.\\nPO Bax 98 | 910 S Anderson Re\\nEllohsburg, WA 98926\\n1's00-867-<291\\n\\n800-HAY-TARP\\n\\nS\\n=\\nS\\n&\\ngs\\nS\\n\\n6\\n=\\na\\n\\n©\\n>\\n=\\n\\n=\\n\\n3\\nS\\nS\\n\\n3\\n=\\n5\\nS\\n\\n>=\\n\\n:\\n\\nOur Values\\n\\nRelationships\\nThefoundaton of our suc snd reatenstps thou caterer\\n‘powers suples and emp ern Hay fay\\nOperational Expertise\\n\\n‘Ourcustomers depend upon ou byt deve the ight quality athe ight ume atthe\\n‘hpi In every operational aes em harvesting tonal ender delve. wee\\n(erexalencs\\n\\nReputation\\n\\nCurreputton there towe ar. very day ou customers see cur reputaton\\n‘trough the Behar sem, he pate: we choos, nd the coniton\\nofout cles ade\\n\\nQUALITY MATTERS!\\n\\nwww.Anderson-Hay.com\\n\\nWASHINGTON STATE HAY GROWERS ASSOCIATION 2019-2020 MEMBERSHIP DIRECTORY\\n\\n\", 'PHIL BRAY\\nDeer Park. WA 93006\\n\\nBLAINE FRICKE\\nfornunversty\\n\\nSpolane, WA 99205\\n\\nPackager: ana, 2-Stng le Round\\nPets Day Fe\\n\\nStorage: pan\\n\\need once\\n\\nsero\\nsSotersan\\na\\nBe SEY on\\n\\nSaher\\n\\nJKO RANCH\\n\\nhook\\nErepe: Ata, Altaa/Grass, oat Hay\\nPockages: Round Bale\\n\\nMonet ors, hoop, tm, Feeder\\nDeivered Yes\\n\\nTonnage: 1000\\n\\nKUMMER FARES\\n\\ntendency na\\n\\nKammertarmsiayahoo com\\n\\nCrops Aaa Afaiaycan,rass\\nvon\\n\\nPraket Dany Helse bead sare\\n\\nStorage: frp, Bam_\\n\\n8614 E. Eik-chattaroy Road\\ngene\\naa\\nie ee ee\\n\\nSTELLAR MEADOWS FARMS, LLC\\netarmeadowsfoms@gmalicom\\nCrope: Alta, Aaa Grass\\nfockagen song ae\\nGoat, cattle Other ee\\n\\nMARK MANES\\n\"Mao Stands od\\n\\nhard Gass tiny Oat Fay\\nSiegen Png fae\\nerage Shed fa Tarp\\n\\nWASHINGTON STATE HAY GROWERS ASSOCIATION\\n\\nSTACY STURDEVANT\\nSturdevantdsegmat.com\\np= nay cas\\nfrkets Horse other\\n‘Storage: Shea arm Txp\\nDavered no\\n\\nDUNRENTON RANCH LLC\\n<dunrstephiajuno.com\\n\\n= Aa, aay Grass\\nPackager: xi fig le\\n\\nFRONT PORCH FARM\\n‘Addy, WA 35107\\n‘malletrontporchrarm net\\n\\n\\\\\\n\\nStorage\\n\\nTonnage: 700\\n\\ncist Farms\\nsect\\nSe en\\n\\n5,\\nPackager stg cle. ig tale\\nStorage Bam, Tap\\n\\nTonnage: 500 ss\\n\\nCWC HAS YOU COVERED!\\n\\ncustomerservice@eweglobalcom\\n\\nYour Sales Representative\\n\\n\\\\ cweglobal.com\\n\\n2019-2020 MEMBERSHIP Di\\n\\n', 'HOPIN RIDGE RANCH THORNHEDGE FARM HELLBERG FARMS\\nShane carpenter Bob Thornton Sonsthan a Sra elberg- son\\nBear Fare Wa 608 Spang, WA 99173 Souchet WA 99560\\nopnnidgeranchsgmalicom Foe 509-256-7441 Fax: 509-526-7514\\nFetebook ahopanageranch hiassoceaotcom hatbergtarmscgmaltcom\\nCrops Ata Aata/erzs Oat ay, Crops aaa Grass Hay Aaa Crops\" Aaa, Stra Aaa /Srass\\nkdow brome orchardgras, mo: Grate Gren Stekages #inng Sate Bg oe\\noy, Feckages2-strng Bate Mavtets Horse, reader oxpor\\nPackages: 100 bs smal rectanguar Makes Horse, Sheep Cate rage Shed tre Sep Open\\nteriel\\'shemenen cok Sore are ‘eed on east\\nRanches Stables Rescues and Howse Delvered Yes \\' .\\nfnches Tmmage 00 MAIDEN ENTERPRISES, LLC\\nStorage Bam Seon vniden\\nBaivered ves ‘as was Wh 9562\\n\\nALM FARMING, INC. Ear s09.st0-6089\\nLazy L RANCH ‘on cratcr fee S0a-535-c009\\nUren sn tes corm totow Road Ertankmniensgmatlcam\\n“ts late burn Wa soa rope ata Stam, O3t Hay\\nSosa son et 800.737 3006 Rovtets ag\\nCatt 509-230-3475 fe 509.507.2257 Storage: Shed Tarp\\nfoe Soa areaan Eimehienbochergmacom insted ver\\nSiyroncistcaytonghotmacom ope Aaa tnaty Daivered es\\nCrops tat Yat. Atainy/rm- Pockages ig Bale, 34 Temage 2000\\nSimp atatavtrarn AiStaveorcord, Market uber Diy. Press\\nGray Oat ny. Orcaragass——Storoge Tp\\nPovkages 2strng tale og bale 2x4 Tested Yes\\nfig se, ane Baie Batwered es BOGAARD HAY co.\\nfetta Tonnage 2000 Ryensogmed\\nStorage: Shed, arn, Tap ‘Main strect\\need on aes ALM FARMING, INC. Tan wa S604\\nTonnage: 2000 165 corny Hotiow Road ‘Celt 509-750-0347\\n\\nSrna Sosa fae Seo tea 025\\nPIONEER FR, LLC Soo-sar aves Fyanebogearday com\\nSheen wet Fe S00 572257 rope aaa, Aaa /erss,Aaa/\\nBis 3 Swenson Road SSonngtayatos cm Srcara cress ay. tow tele\\nBerar Ws 95608 Packages: Sing ate strng Bale\\nSoo.z7e 3407 GAUNTT FARMS, INC. Big eae\\nFBeonapionsertcom Srp coun Bete an\\n\\nS025 rocanbacker eve Storage Shed aan. Tarp, open\\nSCOTT\\'S VALLEY RANCH asco, wa a8301 on\\nSone We Scots Vay Rs eet Soa-Ser 245 Daivered Yes\\nSeer Pr a 99008 Spurting Temnage: 70.000\\nSerehisohugnesnat Faclages:2-Sinng Bale Stnng Gale,\\nrope aia ata/Orchard, Straw Maize Baie\\nockages 2 inng Bare tet a\\nMerial ore reed Store sheep, Storage: shed arp\\n\\n‘ested ver\\n\\nBarve: No\\nTonnage: 600\\n\\nWASHINGTON STATE HAY GROWERS ASSOCIATION 2019-2020 MEMBERSHIP DIRECTORY\\n\\n', \"Where Quality Counts\\n\\nB Eckenberg Farms™\\n\\n—\\n\\nFarmers Working With Farmers For Over 50 Years\\n“Where Quality Counts Since 1963”\\n* Dedicated Growers Growing Quality Forage\\n* Long Term Relationships\\n* Brand Recognition\\n* Trusted Quality Throughout the World\\n* Fundamental Farming Practices\\n* Over 50 years Doing Business In Washington\\n\\n4b a Mig 4\\n\\nWi WH\\n\\nWASHINGTON STATE HAY GROWERS ASSOCIATION\\n\\n[AGRICULTURAL RESOURCES\\n\\nSrkcbyrmenotra\\n\\n‘Orchard, Titicale, Orcharagrass.\\nkes At a0 cerned Weed\\nsiSoge shea\\n\\nDavered ves\\n\\nTonnage: 2500\\n\\nDAMAS RANCH\\n\\ncodyelnaegmatcom\\n\\n2019-2020 MEMBERSHIP Di\\n\\nKIRCKOF FARMS,\\norton toes\\nGieed wa 90004\\n\\n3 Ataa/Orchard, Ata\\nPackages: 2s ale s-Stng Gale\\naves Horse raed Store sep,\\n\\nDeere No\\nTonnage: 480\\n\\nROCK'N S RANCH\\n\\neg ras\\nee\\n\\nROSKAMP FARMS\\nMenael Rosine\\nroskampfarms@gmatlcom\\n\\nsIMPLoT\\n‘aed Progressne Road\\n\\nPackages: Bi Bale\\narene\\n\\n\", 'See, EPP coonramns\\n\\nSE vaopuston ay ramnsnc, oem\\n\\naa eae Sao ens\\n‘cet 08571-4208 wosser 1226 bes he rae.\\n\\nROURLETFarnne mone” SEES am\\n\\nsaa =o 1 corroncrm\\n\\nFa 547-481-2224 ‘ated tes ‘Tested: On Request\\n\\n@ corocry Me Heine” Fast” ton 0 do mo,\\nwere eo Gor Sees\\nSacto ‘fom fd ond tk om fet, sawing De\\nSomoge sn inert of yur bls ntact. minimising orcs and\\n‘ratning our pode.\\n\\n‘Stack On o Of the Suings You have the choice of\\nStocking “on” of “fF strings, al fom a hand hed\\nremote with no manuel adjustments ofthe machine.\\nWith the fp switch, you decide how the bales wil.\\node\\n\\nWASHINGTON STATE HAY GROWERS ASSOCIATION\\n\\n', 'SA sesso ree\\n509-989-3800 spokane, Wa go219\\nMroemss\\niam Oe fede rennet\\n\\nre EEE oyom SE oo\\nALLIED SEED, LLC BLUE RIVER HYBRIDS Website: Columbiaank com\\nBSc sndon 2 sae\\nOEE wane socpato narco “\\nSeamer Be ae =e\\n‘Cuibac and Nutrilock dry hay inc Cell: 509-939-4476 mmoore@cwestern.com\\nSacra SIE samy EenT Ce\\nbiter mounted seed afara and fed Pang, Transition & Estate Planing,\\n\\nseers\\n\\naso pa ee\\nCel 509-531-0283 Fax 541-567-0918 Website: wwn:cordexagricom\\n\\nWASHINGTON STATE HAY GROWERS ASSOCIATION 2019-2020 MEMBERSHIP DIRECTORY\\n\\n', 'COURTRIGHT ENTERPRISES.\\n‘Scot Courtright\\nScotecourtghtenitcom\\n\\nare\\na Area\\nWebsite: werw.degeschamericacom\\n\\nECKENBERG FARMS, INC.\\nJames Eckenberg\\nJoekenbergatarmscom\\n\\nEMD CROP BIOSCIENCE\\nRobert Todd\\n\\nNampa. ID 83656\\nroberttoddsemdbiosclence com\\nNtfogn Gold Ata Prenoculnt,\\nSptinize Gold tor Aas\\n\\nENGLISH HAY COMPANY\\n‘Scott English\\nScottaengishnaycom\\n\\nFIRST INTERSTATE BANK\\nNancy Bosttcher\\nKennewick WA S286\\n\\nWabi: wrwit.com\\nTaneyboeticherotacom\\nBepastery agrcutural Financing,\\n‘eatin management Services\\n\\nFORAGE GENETICS INT.\\nseek Writg\\n\\n‘Nampa, ID 83656\\nfenntgeteragegentscom\\n\\nSeed, altar, sorghums, timothy. of\\nherdgrace tal feces and oth grace\\nSeed °\\n\\nGGFI HAY PROCESSING\\nCoke Deaton\\n\\nlukeegnhay.com\\n\\nDomestic aha Export sales and Pro\\ncesting\\n\\nHLT. REA FARMING CORP.\\nDannis &. Rea\\n\\ntoe Hood Road\\nhireaiahtrestarms.com\\n\\nHAINY TRADING\\nMike Hany.\\nEensburg, Wa 9926\\nmikesnirdngue\\n\\nHAINY TRADING\\nShane Potts\\nEnensburg, WA 96926\\nStoneeteding.ue\\n\\nHANCOCK AGRICULTURE IN-\\nVESTMENT GROUP\\n\\nDon Cotter\\n\\nSeoterenng com\\n\\nHANCOCK FARMLAND SERVICES\\nvim Redmond\\n\\nSoro Beare Pige\\n\\nWits nt ancockagncuture\\nfreamondehorgcom\\n\\nHAYMINGWAY LLC\\nTom Lon\\n\\nFRecmond Wa s0052\\nRymngwayergmaltcom\\n\\nINNOVATIVE FORAGE SOLU-\\nTons tLe\\n\\nJettey Holabaush\\n\\nsoreoe sco\\nisjreyegmatcom\\n\\n‘We ote ep packaging products\\nIhe a srteh wrap sage wrap\\nBika covers oir bene ne rap,\\nWeato ofer forage tenants auth\\nerst aesponce/faincoat ar wal 3\\neatimentforsiage\\n\\nINTERNATIONAL STOCK FOOD.\\neft Ong.\\n\\nWeodstock, GA sores\\n\\n‘ebetes wwwstglobatcom\\nlettestusacom\\n\\n‘Sftge and iy Aceves: Sto Guar,\\nHoy Guard, Raton Guard and eureka\\n\\nIe SERVICES\\nBob Johnson\\n\\n4072 N Frontage Road &\\n\\nHoses ake WA aa?\\nSobjsinanatarecom\\n\\nHay tap rental stage covering, truck\\ntarps/eustom tarps\\n\\nAIMS PACIFIC GARAGES INC.\\nar Rehwatt\\n\\n‘obst: ww imspacinegaragescom\\n‘entmapseiceragen com\\nWester Stor mucks Dene sang\\nthuek sales wuck par pats sale,\\nBlgrment, and preventive mat\\n\\nKEY AG DISTRIBUTORS.\\nCorey Ashbeck\\n\\nBenton city, WA 99320\\noteyaanbeckereyag com\\n\\nFollafs, Forage nat Pad, Sood\\n\\nWASHINGTON STATE HAY GROWERS ASSOCIATION\\n\\nTo see what we do,\\n\\ncheck us outon > Youlube\\n\\nHunterwood\\n\\net ae or\\n\\nHunterwood.com | 1.888.932\\n\\n2019-2020 MEMBERSHIP DIRECTORY\\n\\n', '> Northwest seein wee ste\\n\\nYe, wi Saat twa sexeetr\\n\\nae North iseerine Bat ee\\n\\nOF tana entorr sunvices Bie See Bt ce\\nbiain_| hendrickson@keybankcom tom howardenorthwestics.com ‘Colt 509-948-3616\\nSee cue are la\\nterrax ons aware rey ci\\nee wera ete Eee Se\\nLINDSAY/ZIMMATIC/IRRIGATION PAPE’ MACHINERY INC. asco, WA 99501,\\nPasco, Wa 2030) PROAG-MORRIS INDUSTRIES,\\nanes raerosrinenaun,\\n\\nAg is constantly senso a\\n\\n1 weesoase Poulkoetiepeouerymancatcem — fgskineprosgdesignscom\\nevolving. SS een Bees\\nSo are we. ressapess, ae Solem oem\\n‘The businesses we finance — in farming, ranching, forestry 402 E. Yakima Avenue, Ste 10 (208-687-1478 ‘trucks\\n\\nba ells Aelita) Seopierso Sra Uineartonaducers@ repo, ABO AGRIFINANCE.\\n\\n{namic ature and operate onthe leading edge, interpreting Foczoa-157s204 Ceoderarepuetyamnciones Steve Downey\\ntrends pitfals and opportunities. When comes to managing Tpmalorsememacemscon earns ents ‘an wn 38508”\\n\\nchange, weire right there with you. ness consuting services, POLYEXCEL LLC So9-240-6101\\nTim Serr Coit $08 579-5348\\n\\nNORTHWEST FARM CREDIT SER. To1 West 210 North Stevedowneyierabcag.com\\n800.743.2125 | northwestfes.com vices. Blackfoot, 1D 85221\\n\\nSee Stace Fe 200-782-0009\\n\\ncee! ‘Snuchturer of ater wine and Net\\n\\nGareingroomenorthwestcs.com Wrap. Ao supply stage fim, sage\\n\\nHere to Help You Grow- Sheeting\\n\\nWASHINGTON STATE HAY GROWERS ASSOCIATION 2020 MEMBERSHIP DIRECTORY\\n\\n', 'ASSOCIATE MEMBERS\\n\\nREDOX CHEMICALS\\n‘cote Drake\\n\\nsoecre-260\\n\\n‘bene wr redoxchem com\\nSistideradoxcnam com\\n\\nSpecnty tortie company focused\\nshinovabve pant grow technol\\nEY\\n\\nRICHLAND FEED & SEED/COR-\\nDEX BALER TWINE.\\n\\nKyle Ransom\\n‘ransemeagietlephonecom\\n‘Ear Twine, Aan Seed\\n\\nRIVERBANK\\n‘Shelby Kramer\\n\\njes wot\\n‘kramererverbarkontnacom\\n\\nS24 SEE0 conan\\nmus\\n\\nSee ea\\n‘Website: www swscedcocom\\nSecs\\n\\nSCHAEFFER MFG.\\nAlon MeFadin\\n\\n$720 Brosdway Ext NE\\n\\n‘Moses ate WA 90857\\n‘Sretaameschoeterotcom\\n{ibncans. Fuel Agatves, Wet-Sot\\n\\n‘SIMPLOT GROWER SOLUTIONS\\nGary Durtes\\n\\n‘Warden, Wa S687\\n‘serydurrecanimplctcom\\n\\n‘SOILTEST FARM CONSULTANTS.\\nBrent Thyssen\\n\\n‘aes onggs Drive\\n\\n‘Moses ake, WA 98837\\n‘rentssolestiancom\\n\\need and Forage Analysts\\n\\n‘5S EQUIPMENT INC.\\n4939 Hy 2018\\nSos rerssoe\\n\\na Sly oy Equpment sales\\n\\nay Jom wanowane sis\\nmae\\n\\nSama\\n\\nESUEE wom\\n\\n‘Tractor Sales and Parts\\n\\n‘STEFFEN SYSTEMS\\n\\npatastertensystoms.com\\n\\n‘STINGER INC.\\ntin Matlock\\n‘mortar ff Stackers and\\nWrappers\\n\\nTAMAUSA\\nMatt MeWiliams\\nBaneda\\n\\n‘Ralthow mewntams.etama-usa.com\\nEng wine Netuarp another\\npackaging pours\\n\\n‘THE NORTHWEST SEAPORT AL-\\nANCE.\\n\\n‘Steve Balaski\\n‘Website: warvtnwseaportatiancecom\\n‘Sbauskionwseaporahiance cor\\n\\n‘he Northwest Seaport Alisness 2\\n{he Port or Sestte and ort of face\\nsmo. We se the fourth gest con\\n{ine gateway n North Afherics,\\n\\n“TRISTATE SEED COMPANY\\nCraig Tee!\\n\\n‘Connal, WA 99526-1229\\n\\n‘aaa Sood, Timothy Seed Grass\\n\\n‘TRI STATE SEED COMPANY\\n‘Stacy Kniveton\\n\\nConnal, WA 99526\\nSecyetatatesced com\\n\\n‘ala Forage and Timothy Seed\\n\\n“TRISTATE SEED COMPANY\\n\\n‘oa ne sand Street\\nVratand, Wa 20082\\n‘emamsonetytarinticom\\n\\nwa uc ne\\nSaar\\n\\naig\\neeeetpcm\\n\\nWARREN & BAERG MFG, INC.\\n\\nRandy B3erg\\n\\n‘Website: www warrenbaerg.com\\n\\nIntoowarrentaerg corm\\n\\nEqupment Manufacturer of Cubsog\\nSystems cinding and shredding\\n‘Systems for Darigs Feedit Polltz-\\n\\ning, Metonng systems, and Conveying\\n\\nbie tutnovers Orchard Rakes Brush\\n\\nks Caupment rors Pump\\n\\nWASHINGTON STATE HAY GROWERS ASSOCIATION\\n\\nToma XO saeco\\nTama XD say\\nTama XD ane\\n\\nForen Dansty\\n\\nTamaTwine+ Large Square Baler twine\\n\\n“ama Ls acto\\nCounty MLE 90\\n\\n2019-2020 MEMBERSHIP DIRECTORY\\n\\nourrur\\n\\n‘hang ars wart sna\" ar ese\\n\\na> LESS CANGES a HGHER:\\n\\nLENGTH\\n\\ngr fly valted by AL THE MADR BALER PRODUCERS,\\n\\n', 'MISSION STATEMENT = siaycrowers\\n\\nWeESCO INTERNATIONAL YUKLAGR! INTERNATIONAL, INC.\\nWoy Booman Sone\\n\\nmeng cet od roomes\\n\\nEnt Soe Saz0 rst wa sosze\\n\\n‘ayewescouscom Sops6r a ‘The washington state hay growers association is committed to enhancing\\ngeese ees cet Soo as ‘communications between growers, policy makers, and consumers to help support and\\nSvctjcamraimncy Se Same get treaty ha Soa\\nproving coverage for empioyess, — eNeewesterag.nct ZEN-NOH HAY, INC. We proudly represent forage growers and industry professionals\\n\\nwasuineTon TRust Bank WESTERNLABORATORIES,INC. ete Ha located throughout the state of washington.\\nFaw ceonater avenue fumatio fonsdeeoa\\nKennewick WAS9550 Saeis aco” Fee So S48-5027\\n\\nSegeroeuacam a Ty\\n\\nPeco wsuconas ‘png Pesang © mg cues Aaa hs\\n\\nBroce Grow NATIONAL 5702 W-tasie Rood Liaison, states, ir-4, cle\\n\\n‘Patrick Schartewstecu ‘Community relations\\nEmployment and economic stability in regional communities\\nPublic relations\\n\\n‘Consumer, environmental stewardship, state organizations,\\nrovers, universities\\n\\n— Knowledge transfer\\nEducation\\n‘Annual northwest hay expo, local and statewide hay king contests\\nResearch\\nFunded production research in cooperation with wsu\\nAlfalfa variety trials\\nPublications\\nMembership directory\\n\\nPlatform for addressing issues\\n‘Credentialed response to regulatory or other inquiries\\n‘Network of relevant colleagues / customers\\nCollective knowledge base\\nFaster problem solving\\nIndustry cohesiveness\\nForum for exploration\\n\\nWASHINGTON STATE HAY GROWERS ASSOCIATION 2019-2020 MEMBERSHIP DIRECTORY\\n\\n', '“SETTING THE STANDARD”\\n\\nProviding superior quality export products from\\n\\nand Custom Control Pacific Northwest farmers since 1995!\\nSystems\\n\\nprovide a safe and refiable link\\nbetween the United States and\\nJapanese dairy and beef cattle\\nfarmers. The main purpose of the\\nPl Zen-Noh group of companies is to\\n208-687-1478 contribute to the economic\\nFax: 200-687-4148 evelopment and growth of farmers\\n\\n115i Fama oat in the United States and Japan.\\n\\nWe Are The\\nREPAIR SPECIALISTS v\\n\\nouabain, he. ters ei on al Mr eas\\ntira Component\\n\\nsca | RET | MOOG ATELY | PAMER | PEEASUS| EAT\\nexc [| stan | coca\\n\\nWASHINGTON STATE HAY GROWERS ASSOCIATION 2019-2020 MEMBERSHIP DIRECTORY\\n\\n', 'County Map.\\ncams.\\nBencon\\nDouglas\\nFrankin\\nrant.\\ncas\\nick.\\nLinotn\\nOkanogan.\\nPend ore.\\nSpokane\\nstevens\\nWalla Wala\\nWhatcom.\\nvakima.\\n\\nAaverisers Inde.\\n\\\\WSHGA Web Page infomation.\\nBoardor Directors\\n\\nGrowers county\\n\\nucor Stare Growers\\nCanada lana oregon\\nAssociate Members|\\n\\nMission statement.\\n\\nAorex Seeds\\nAnderson Hay & Grain Co\\nAugies Ag Sales, LIC\\n\\nBe Roles\\n\\nBrock Law Firm\\nContinental Wester Corp.\\nDegescn america Inc\\nEckenberg Farms\\n\\nighine Manufacturing La\\nHot Soar Soutons\\nHunterwoodTeennoogies\\nTe ervices.\\n\\nLupnatecn,\\n\\nNorenwest Farm Creat Serves.\\nPaw Taw Jon Services I.\\nPoly-Becel, Lc\\n\\nroag- Moris Industries\\nSW Seed Company.\\nssraPack.\\n\\nTamaUusA\\n\\nWarren &Baergmiginc\\nWashington Frm Bureau\\nNelerate te I.\\n\\nTen on Hay\\n\\nThe citectory is sponsored bythe Washington\\nState Hay Growers Association, The Washington\\nState Hay Growers Associations a non-profit tage\\nassociation funded by membership dus an private\\ningustr conributions.\\n\\nPRODUCTS FOR OPTIMIZED FARMING\\n\\nLiGHTNING B\\nHay Moisture Monitors\\nSater mua\\nMomo Notre rom 37%\\nS000 rags br scant\\nLage Senso foot ot, 1, nets\\n‘tomate mata pows up ocr aptrator\\nChote of ntanvarage mote raangs\\neae of ming knowing yout ay mote\\nal igor ual an quay, conssncy Ty ]\\n\\n\\\\Wy . Dflow Powdermaster\\nbgt contotes rar ate aptator\\nCubans 1B0- Toner mints\\ndenen one wounst wight tats\\nManual orate gust ab\\nOona 2 vot aan & nse\\nTot rede rad eat un\\nRowse opeagn 0\\nHe 81754 eazy\\ninstanton & 90 (1\\nLovie! ae\\n\\nCulkac\\n\\nHay Treatment for Alfala, Grass, et.\\n\\ncreased mol & slags\\nDroased heat aa & weather isk\\nInetesed art yl & aves\\nmoove astny\\n\\novat dysto bang\\n\\nomer oneal\\n\\nrogue slay, natal groans\\n\\nWWW.WA-HAY.ORG\\n\\nThe Washington Sate ay Growers Asociaxon cane ound onine at www.wa-hay.org.\\nThese nas weal of information about your Assocation 3s wel as Ins to ther nay formation\\navaiable one nen. Check ou the WSHGA webs\\n\\nCALL FOR YOUR NEAREST DEALER\\n\\nAUGIE’S AG SALES, LLC.\\n\\nmous om coe 509.797.5612 + 800.961.1611 + www.augiesagsales.com\\n\\nWASHINGTON STATE HAY GROWERS ASSOCIATION 2019-2020 MEMBERSHIP DIRECTORY\\n\\n', \"a ia\\n\\np olyExcel, LLC\\n\\nUSE PXEFOR'STRENGIM\\n) “WHERE\\\\OUINEEDIIT\\n\\nReliability in Bale Bundling\\nOur High Speed Narrow Head Strapper in\\n\\nProven Performance and\\n\\nPXL strives to keep our\\ncost down so you can keep\\nyour profits up. We are\\ncommitted to excellence\\nin quality and service! Look\\nto us for new products\\nin the future of farming.\\n\\nE\\n8\\n8\\n4\\ng\\n=\\nFy\\nEy\\nEy\\nEy\\n=\\neS\\n=\\nz\\n4\\nS\\n$\\ns\\ne\\ng\\n=\\n=\\n=\\n&\\n\\nStromack\\n\\n877-438-7659 polyexcel\\n\\nWASHINGTON STATE HAY GROWERS ASSOCIATION 2019-2020 MEMBERSHIP DIRECTORY\\n\\n\", \"‘ANew Day Has Dawned For ARABLE\\n\\nNE www.arableONE.com\\n\\nPi Herbicde Resistance\\n\\nAssociation Health Plan (AHP)\\nEmployee Health Coverage\\n\\n1-800-681-7177 oe\\nonly penetrate\\n\\n‘Add X-CELERATE\\ntoefiectvely ALFALFA RESULTS,\\n\\n+ Reduces water use\\n‘+ One application\\n\\npenetrate up to\\n3times your |\\ncurrent USE!\\n\\nMaking a Difference\\nYou Won't Believe!\\n\\nI) Growing healthy plants\\nstarts with growing healthy soil.\\ncontact\\nDealership Opportnitis: Prod information:\\narableone com scoudarableone com\\n7013732200, aor-3s8or11\\nMah\\nil i\\n\\nWASHINGTON STATE HAY GROWERS ASSOCIATION 2019-2020 MEMBERSHIP DIRECTORY\\n\\n\", 'BUILT TOUGH\\nFOR THE LONG HAUL\\n\\nol\\n\\nULTIMATE PICK-UP SYSTEMS.\\nFOR LARGE SQUARE AND BUNDLED BALES\\n\\nMORRIS] sesoee\\n\\naa WASHINGTON STATE HAY GROWERS ASSOCIATION Ey\\n', 'TONY ZILAR\\n\\nSHAWN CLAUSEN JIM GOFF G19) NLC Farm Corporation\\n\\n‘Stotrose Farm Gott Farms ro ieood Read\\n\\n‘arden, Wa 96857 Warden, WA 96857 Soo/ase-s2ae\\n\\n50/s4o.2s38 Sog/seo oa Fee soa/s4o-254  amaaehotmaticom\\n\\nFax So0/s0-2258 JAMES GROSS x20)\\n\\nshawnssmunrtessnet Marin Hutterian STEVE BALASKI Aan\\nBaas Road ie NE Northwest Seaport Aliance\\n\\nANDREW EDDIE Soovro-sis acoma, WA 26401\\n\\nRN Farms Jamesgressmagmaticom 2esyese aces\\n\\nPoses ake, WA 99857 Sbalakslenwseaportatance com\\n\\n(09) 980-7343 GARY KIRCKOF\\n\\n‘anareweenhtarms.com Popo aoas LOURENCE DORMAIER (A20)\\nised Wa 26804 Agrex Ine\\nSog/see-sias S051 Road e Nw.\\n\\nSCOT COURTRIGHT (20) abkaqcom praia Wa 9082s\\n\\nPoses Lake, WA 90837 LOREN LENTZ Fax 509.787.4226\\n\\nStotecouringhtent com Lazy L Ranch i: so8-2860\\nseater Idormatereagrexnccom\\n\\nGayton wa osri0\\nBRIAN EDDIE 503-776-261 BOB JOHNSON\\n\\nRock\\'n Hay Farm= IBzpranchateaytonahotmaticam (TC Services\\n\\nas hood KN AION Frontage Ra\\n\\n2\\n‘Moses tate Wa 98837 ROBMENSONIDES (20), Moses Lake, WA 98857 ‘SéW Alfalfa Varieties are Bred to Perform in the Ne\\n\\n$03/7s0-5/00. Koma Farme 509-760-3602\\n\\nrockrhayawiebue net Bek tym oad NE Fax sog/rec-ona Washington State Hay Grower\\'s Alfalfa Trial R =\\n\\nHoses ake, WA 98857 bobjetnnatarpcom\\n\\nMARK HERES Fobmensonidesetcioudcom\\nHerbes Farms STEVE FRANSEN\\n\\nes2 Bitch Antler Road BILL ROSEBURG WSUTAREC ‘QUALITY DAIRY ©\\n\\nDeer Park, WA 99006 Moses Lake, WA 96837 Brossen wa soss0-9694 = wea\\n\\n00) 958-4640 Loypeeees Eoy/rte sce sy\\n\\nwherbes@gmailcom Fax: 509/764-8202 fransen@wsuedu VS\\nreckingwgracom\\n\\nKEVIN GRAY ‘guns STEVE NORBERG ‘Sw4107-FD4 “SWS213- FDS: ‘SWS210-FDS\\n\\nSrarnope vale KENT RUSSELL WSU Extension commetyapeye Wepesyatnuenet —ipyedgapet thyaga\\n\\ncrepe wa sos0 ussel Land & Cattle wen at onder\" nawuta ier wy\\n‘creat com ausonensnfaco tte\\n\\n== sanova nesowy feet ronie po\\nws nes WALTER eehimbsa Sax Colege oem :\\n‘Schoonover Farms SeesReh tn Sens fecaceteonsy see gpl\\n\\nEres] Sau n Schooner Ross Pasco, WA 92301 Siecategnthaon —— galmarsantat\\nS09/s8e-2228 Skesonecoumblabasinedy erereceecalsy em\\nwaltergregarocketmallcom\\n\\nGREG SANDERS ‘ANDREW EDDIE SHERI NOLAN\\nUSDA Market News Grbansigroot Sebi wr Deschutes av. St. c-2\\n‘orse Road ns Goa sas7305 Kennan WA 995 reso 8\\n\\nMoses Lake, WA 96857 sndreweurbanbigtootadvertsingcom 509/585-5460,\\nSo3/sbsnsas ‘ weom Fax 509/585-2671\\nGreg sonders2eoms.usda.gov Srolaneagmgtcom\\n\\nWASHINGTON STATE HAY GROWERS ASSOCIATION 2020 MEMBERSHIP DIRECTORY\\n\\n', 'NYO D14IIVe\\n\\nWASHINGTON STATE HAY GROWERS ASSOCIATION\\n\\n\"AM FREENAN Fas\\n‘ARTHUR BLAUERT Tesi eon SE\\neee ees,\\nEAS Se\\n\\nSais So\\nSoom SERENE\\naan eave =ere\\nee EEE ae\\npar Saas\\nees\\n\\nSe ee on st\\n\\neater\\n\\nBeer AA\\n\\nor ee ep ieee,\\n\\nFREEMAN FARMS hatarmsemsnicom\\n\\nSea as etic rea ae,\\na ai\\n\\nKENT FARMS ‘ested vor °\\noh se\\n\\nOthello, WA 99344 sae\\n\\nSee oso ranine\\nbeighentiosmnttessnet G72 Wilamette\\na\\nEa] 2a.\\n\\nae homo Sean\\nRUSSELL LAND AND CATTLE igiie * “TUES S10\\nnurs EEE ee cpt\\n\\nTae corn me\\n\\nGthete, Wa a3saa ‘ested ver\\n\\nween ERE ALSHANOER FAR,\\na\\n\\navkets alt Rieniand Wa 9355\\n\\neen” isan\\n\\nTonnage: 2500 ‘rope a\\nSTAHL FARMS Saket At\\npore oe\\n\\neo ace\\neon sess\\n\\n2019-2020 MEMBERSHIP DIRECTORY\\n\\nshcis rans\\nHERE ne\\nee\\n\\nSe SE ron\\nmea\\n\\nSy So\\n\\nSTACY KNIVETON\\nStacyinnetoneyahoocom\\nSeckager\" ag ate\\nNarkets al\\n\\njested ve\\n\\n‘omage: $800\\n\\nDAVID SPRINGER\\n2a W sagemoar\\nFespangerahotmaticom\\n\\n[AG WEST INTERNATIONAL,\\ntorso Ghia aod\\n\\nCALAWAY CO\\ndao N dace road\\n\\nALAway co\\nToo N Gage Road\\n\\n']\n"
     ]
    }
   ],
   "source": [
    "print(text_list)"
   ]
  },
  {
   "cell_type": "code",
   "execution_count": null,
   "id": "08dcbb1d-98bb-462e-880e-865262801eba",
   "metadata": {},
   "outputs": [],
   "source": []
  }
 ],
 "metadata": {
  "kernelspec": {
   "display_name": "Python 3 (ipykernel)",
   "language": "python",
   "name": "python3"
  },
  "language_info": {
   "codemirror_mode": {
    "name": "ipython",
    "version": 3
   },
   "file_extension": ".py",
   "mimetype": "text/x-python",
   "name": "python",
   "nbconvert_exporter": "python",
   "pygments_lexer": "ipython3",
   "version": "3.9.7"
  }
 },
 "nbformat": 4,
 "nbformat_minor": 5
}
